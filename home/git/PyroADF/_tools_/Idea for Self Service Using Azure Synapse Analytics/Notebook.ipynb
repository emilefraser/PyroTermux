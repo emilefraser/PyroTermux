{
  "metadata": {
    "saveOutput": false,
    "language_info": {
      "name": "csharp"
    }
  },
  "nbformat": 4,
  "nbformat_minor": 2,
  "cells": [
    {
      "cell_type": "code",
      "execution_count": 1,
      "outputs": [],
      "metadata": {
        "tags": [
          "parameters"
        ]
      },
      "source": [
        "string inputFilePathFull; // = \"/Landing/Year=2020/Month=10/Day=20/Hour=10/Gender.csv\";"
      ]
    },
    {
      "cell_type": "code",
      "execution_count": 2,
      "outputs": [],
      "metadata": {},
      "source": [
        "using System.IO;\n",
        "\n",
        "string container = \"abfss://dataplatform@swimmingarea01.dfs.core.windows.net\";\n",
        "string dataSetName = Path.GetFileNameWithoutExtension(inputFilePathFull).Replace(\" \",\"\");\n",
        "string outputFilePathFull = \"/Consume/\" + dataSetName + \".parquet\";"
      ],
      "attachments": {}
    },
    {
      "cell_type": "code",
      "execution_count": 3,
      "outputs": [],
      "metadata": {},
      "source": [
        "//read csv and infer schema\n",
        "var dfOptions = new Dictionary<string, string>();\n",
        "\n",
        "dfOptions.Add(\"header\", \"true\");\n",
        "dfOptions.Add(\"inferSchema\", \"true\");\n",
        "\n",
        "DataFrame rawCsv = spark.Read().Options(dfOptions).Csv(container + inputFilePathFull);"
      ],
      "attachments": {}
    },
    {
      "cell_type": "code",
      "execution_count": 4,
      "outputs": [],
      "metadata": {},
      "source": [
        "//write and use as parquet\n",
        "rawCsv.Write().Mode(SaveMode.Overwrite).Parquet(container + outputFilePathFull);\n",
        "DataFrame consumptionFile = spark.Read().Parquet(container + outputFilePathFull);"
      ],
      "attachments": {}
    },
    {
      "cell_type": "code",
      "execution_count": 5,
      "outputs": [],
      "metadata": {},
      "source": [
        "//clean up if needed\n",
        "spark.Sql(\"DROP TABLE IF EXISTS \" + dataSetName);"
      ],
      "attachments": {}
    },
    {
      "cell_type": "code",
      "execution_count": 6,
      "outputs": [],
      "metadata": {},
      "source": [
        "//create table for consumption\n",
        "consumptionFile.Write().SaveAsTable(dataSetName);"
      ],
      "attachments": {}
    }
  ]
}