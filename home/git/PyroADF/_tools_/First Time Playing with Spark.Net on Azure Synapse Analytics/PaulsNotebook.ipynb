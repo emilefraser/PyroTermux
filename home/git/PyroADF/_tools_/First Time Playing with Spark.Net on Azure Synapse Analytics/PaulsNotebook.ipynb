{
  "metadata": {
    "saveOutput": true,
    "language_info": {
      "name": "csharp"
    }
  },
  "nbformat": 4,
  "nbformat_minor": 2,
  "cells": [
    {
      "cell_type": "markdown",
      "metadata": {},
      "source": [
        "## Paul Andrew Plaground\n",
        "\n",
        "[paul@mrpaulandrew.com](mailto:paul@mrpaulandrew.com)\n",
        "\n",
        "Playing around with the Spark.Net basics, using the examples from the Spark.Net tutorial here: \n",
        "[https://dotnet.microsoft.com/](https://dotnet.microsoft.com/learn/data/spark-tutorial/intro)\n",
        ""
      ],
      "attachments": {}
    },
    {
      "cell_type": "code",
      "execution_count": null,
      "outputs": [],
      "metadata": {},
      "source": [
        "using Microsoft.Spark.Sql;\n",
        "\n",
        "string inputPath = \"abfss://paulplayground@mvpsynapsestorage.dfs.core.windows.net/mySparkApp/input.txt\";\n",
        "\n",
        "DataFrame rawData = spark.Read().Text(inputPath);"
      ],
      "attachments": {}
    },
    {
      "cell_type": "code",
      "execution_count": null,
      "outputs": [],
      "metadata": {},
      "source": [
        "rawData.Show()"
      ],
      "attachments": {}
    },
    {
      "cell_type": "code",
      "execution_count": null,
      "outputs": [],
      "metadata": {},
      "source": [
        "rawData.PrintSchema();"
      ],
      "attachments": {}
    },
    {
      "cell_type": "code",
      "execution_count": null,
      "outputs": [],
      "metadata": {},
      "source": [
        "DataFrame words = rawData\n",
        "    .Select(Functions.Split(Functions.Col(\"value\"), \" \").Alias(\"words\"))\n",
        "    .Select(Functions.Explode(Functions.Col(\"words\"))\n",
        "    .Alias(\"word\"))\n",
        "    .GroupBy(\"word\")\n",
        "    .Count()\n",
        "    .OrderBy(Functions.Col(\"count\").Desc());\n",
        "\n",
        "words.Show();"
      ],
      "attachments": {}
    },
    {
      "cell_type": "code",
      "execution_count": null,
      "outputs": [],
      "metadata": {},
      "source": [
        "words.CreateOrReplaceTempView(\"wordView\");\n",
        "\n",
        "DataFrame sqlDf = spark.Sql(\"SELECT * FROM wordView WHERE count > 1\");\n",
        "sqlDf.Show();"
      ],
      "attachments": {}
    },
    {
      "cell_type": "code",
      "execution_count": null,
      "outputs": [],
      "metadata": {},
      "source": [
        "string outputPath = \"abfss://paulplayground@mvpsynapsestorage.dfs.core.windows.net/mySparkApp/wordsSummary.parquet\";\n",
        "\n",
        "words.Write().Mode(SaveMode.Overwrite).Parquet(outputPath);"
      ],
      "attachments": {}
    },
    {
      "cell_type": "code",
      "execution_count": null,
      "outputs": [],
      "metadata": {},
      "source": [
        "spark.Stop();"
      ],
      "attachments": {}
    }
  ]
}